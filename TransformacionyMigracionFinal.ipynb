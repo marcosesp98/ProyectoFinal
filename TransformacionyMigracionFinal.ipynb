{
 "cells": [
  {
   "cell_type": "code",
   "execution_count": null,
   "metadata": {
    "application/vnd.databricks.v1+cell": {
     "cellMetadata": {},
     "inputWidgets": {},
     "nuid": "70b5515f-a239-4031-8afb-5a413c3f5dcf",
     "showTitle": false,
     "title": ""
    }
   },
   "outputs": [],
   "source": [
    "import pathlib\n",
    "import os\n",
    "import re\n",
    "import pyspark\n",
    "from pyspark.sql import SparkSession\n",
    "from pyspark.sql.functions import countDistinct\n",
    "import pyspark.sql.functions as f\n",
    "from pyspark.sql.types import *\n",
    "\n",
    "spark=SparkSession.builder.appName(\"transformaciones\").getOrCreate()\n",
    "\n",
    "#importamos las librerias que vamos a usar"
   ]
  },
  {
   "cell_type": "code",
   "execution_count": null,
   "metadata": {
    "application/vnd.databricks.v1+cell": {
     "cellMetadata": {},
     "inputWidgets": {},
     "nuid": "3dbf8341-212f-466b-ad42-1bf5138a91c3",
     "showTitle": false,
     "title": ""
    }
   },
   "outputs": [],
   "source": [
    "dbutils.fs.mount( \n",
    "    source = 'wasbs://input@storagesiglo21.blob.core.windows.net' ,\n",
    "    mount_point = '/mnt/input',\n",
    "    extra_configs = {'fs.azure.account.key.storagesiglo21.blob.core.windows.net':'Jbc3Ho1lMMkr2h0RFZLb7OKZB8SDXmv17sO490R0yzm4kd0m8Y0ZMddQ61YbeIg0O8JvMiSFIIJT+AStPH0+/A=='}) #esto es la conexion con el blob storage de salida\n",
    "\n",
    "dbutils.fs.mount( \n",
    "    source = 'wasbs://output@datalakesiglo21.blob.core.windows.net' ,\n",
    "    mount_point = '/mnt/output',\n",
    "    extra_configs = {'fs.azure.account.key.datalakesiglo21.blob.core.windows.net':'7BabSWR4r7JRIBhoU4JEXycFEIL7HrBL2PW4mgc15Ojw24Ohm93vFMq58tLLax0TJ+gTDYyCZ3Ta+AStUMUILg=='}) #esto es la conexion con el datalake de salida"
   ]
  },
  {
   "cell_type": "code",
   "execution_count": null,
   "metadata": {
    "application/vnd.databricks.v1+cell": {
     "cellMetadata": {},
     "inputWidgets": {},
     "nuid": "439808d6-3f83-42ff-b5fd-274308889212",
     "showTitle": false,
     "title": ""
    }
   },
   "outputs": [],
   "source": [
    "CategoriaSchema = StructType([\n",
    "    StructField('Cod_Categoria', IntegerType(), True), \n",
    "    StructField('Categoria', StringType(), True)\n",
    "])\n",
    "FactMineSchema = StructType([\n",
    "    StructField('TruckID', FloatType(),True),\n",
    "    StructField('ProjectID',IntegerType(),True),\n",
    "    StructField('OperatorID',IntegerType(),True),\n",
    "    StructField('TotalOreMined',FloatType(),True),\n",
    "    StructField('TotalWasted',FloatType(),True),\n",
    "    StructField('Date',DateType(),True)\n",
    "])\n",
    "MineSchema = StructType([\n",
    "    StructField('TruckID',IntegerType(),True),\n",
    "    StructField('Truck',StringType(),True),\n",
    "    StructField('ProjectID',IntegerType(),True),\n",
    "    StructField('Country',StringType(),True),\n",
    "    StructField('OperatorID',IntegerType(),True),\n",
    "    StructField('FirstName',StringType(),True),\n",
    "    StructField('LastName',StringType(),True),\n",
    "    StructField('Age',IntegerType(),True),\n",
    "    StructField('TotalOreMined',FloatType(),True),\n",
    "    StructField('TotalWasted',FloatType(),True),\n",
    "    StructField('Date',DateType(),True)\n",
    "    \n",
    "])\n",
    "ProductoSchema = StructType([\n",
    "    StructField('Cod_Producto',IntegerType(),True),\n",
    "    StructField('Producto',StringType(),True),\n",
    "    StructField('Cod_SubCategoria',IntegerType(),True),\n",
    "    StructField('Color',StringType(),True)\n",
    "])\n",
    "SubCategoriaSchema = StructType([\n",
    "    StructField('Cod_SubCategoria',IntegerType(),True),\n",
    "    StructField('SubCategoria',StringType(),True),\n",
    "    StructField('Cod_Categoria',IntegerType(),True)\n",
    "])\n",
    "VentasInternetSchema = StructType([\n",
    "    StructField('Cod_Producto',IntegerType(),True),\n",
    "    StructField('Cod_Cliente',IntegerType(),True),\n",
    "    StructField('Cod_Territorio',IntegerType(),True),\n",
    "    StructField('NumeroOrden',IntegerType(),True),\n",
    "    StructField('Cantidad',IntegerType(),True),\n",
    "    StructField('PrecioUnitario',FloatType(),True),\n",
    "    StructField('CostoUnitario',FloatType(),True),\n",
    "    StructField('Impuesto',FloatType(),True),\n",
    "    StructField('Flete',StringType(),True),\n",
    "    StructField('FechaOrden',DateType(),True),\n",
    "    StructField('FechaEnvio',DateType(),True),\n",
    "    StructField('FechaVencimiento',DateType(),True),\n",
    "    StructField('Cod_Promocion',IntegerType(),True)\n",
    "])\n",
    "#creacion de esquemas para los csv"
   ]
  },
  {
   "cell_type": "code",
   "execution_count": null,
   "metadata": {
    "application/vnd.databricks.v1+cell": {
     "cellMetadata": {},
     "inputWidgets": {},
     "nuid": "c3d2e97f-b91a-4b5f-bec7-12848ff5d4c2",
     "showTitle": false,
     "title": ""
    }
   },
   "outputs": [],
   "source": [
    "dfCategorias=spark.read.csv('/mnt/input/Categoria.csv', header=True, inferSchema=True)\n",
    "dfFactMine=spark.read.csv(\"/mnt/input/FactMine.csv\", header=True, inferSchema=True)\n",
    "dfMine=spark.read.csv(\"/mnt/input/Mine.csv\", header=True, inferSchema=True)\n",
    "dfProducto=spark.read.csv(\"/mnt/input/Producto.csv\", header=True, inferSchema=True)\n",
    "dfSubcategoria=spark.read.csv(\"/mnt/input/SubCategoria.csv\", header=True, inferSchema=True)\n",
    "dfVentasInternet=spark.read.csv(\"/mnt/input/VentasInternet.csv\", header=True, inferSchema=True)\n",
    "\n",
    "#importacion de los csv"
   ]
  },
  {
   "cell_type": "code",
   "execution_count": null,
   "metadata": {
    "application/vnd.databricks.v1+cell": {
     "cellMetadata": {},
     "inputWidgets": {},
     "nuid": "fcb14e34-d45a-4f7b-97f5-8396d8a8390c",
     "showTitle": false,
     "title": ""
    }
   },
   "outputs": [],
   "source": [
    "dfTransform1 = dfCategorias.withColumnRenamed(\"Categoria\", \"Nombre_Categoria\")\n",
    "dfTransform2 = dfFactMine.groupBy().sum(\"TotalOreMined\").withColumnRenamed(\"sum(TotalOreMined)\",\"HistoricalSumOreMined\")\n",
    "dfTransform3 = dfMine.select('Country','FirstName','LastName','Age')\n",
    "dfTransform4 = dfMine.groupBy('Country').sum('TotalWasted').withColumnRenamed('sum(TotalWasted)','TotalWastedPerCountry')\n",
    "dfTransform5 = dfProducto.select(countDistinct('Cod_Producto')).withColumnRenamed('count(DISTINCT Cod_Producto)','cantidad_de_productos')\n",
    "dfTransform6 = dfProducto.orderBy('Cod_Producto', ascending=False)\n",
    "dfTransform7 = dfSubcategoria.filter(dfSubcategoria.Cod_Categoria==3)\n",
    "dfTransform8 = dfVentasInternet.withColumn('Ingresos_Netos', (dfVentasInternet.Cantidad*dfVentasInternet.PrecioUnitario)-dfVentasInternet.CostoUnitario)\n",
    "dfTransform9 = dfTransform8.groupBy('Cod_Producto').agg(f.mean('Ingresos_Netos'),f.sum('Ingresos_Netos')).orderBy('Cod_Producto',ascending = True).withColumnRenamed('avg(Ingresos_Netos)','Promedio_IngresosNetos').withColumnRenamed('sum(Ingresos_Netos)','Suma_ingresos_netos')\n",
    "\n",
    "#aplicamos las correspondientes transformaciones"
   ]
  },
  {
   "cell_type": "code",
   "execution_count": null,
   "metadata": {
    "application/vnd.databricks.v1+cell": {
     "cellMetadata": {},
     "inputWidgets": {},
     "nuid": "525d461f-60f7-431d-a9a2-2d3ebd3052be",
     "showTitle": false,
     "title": ""
    }
   },
   "outputs": [],
   "source": [
    "for i in range(1,10):\n",
    "    exec(\"dfTransform%s.write.format('csv').mode('append').options(header='true').save('/mnt/output/temp/transform%s')\" % (i,i))"
   ]
  },
  {
   "cell_type": "code",
   "execution_count": null,
   "metadata": {
    "application/vnd.databricks.v1+cell": {
     "cellMetadata": {},
     "inputWidgets": {},
     "nuid": "87f822fb-0b77-42a3-bfe5-b5906384fe5e",
     "showTitle": false,
     "title": ""
    }
   },
   "outputs": [],
   "source": [
    "#listamos los directorios de la carpeta temporal del datalake\n",
    "lista_directorios=dbutils.fs.ls('/mnt/output/temp/')\n",
    "\n",
    "#creo un array que contiene arrays de directorios\n",
    "lista_de_sublistas=[dbutils.fs.ls(directorio.path) for directorio in lista_directorios] #crea una lista con tantas listas como directorios\n",
    "archivos_desempaquetados = [archivo for lista in lista_de_sublistas for archivo in lista] #aplanamos todo en una misma lista\n",
    "\n",
    "#movemos los archivos finales a una carpeta\n",
    "for archivo in archivos_desempaquetados:\n",
    "    path_instance=pathlib.PurePosixPath(archivo.path)\n",
    "    if re.search('part.+', archivo.name): \n",
    "        dbutils.fs.mv(archivo.path,'/mnt/output/%s.csv' % path_instance.parents[0].name)\n",
    "        \n",
    "#borramos las carpetas residuales\n",
    "for i in range(1,10):\n",
    "    exec(\"dbutils.fs.rm('mnt/output/temp/transform%s',recurse=True)\" % i)\n"
   ]
  }
 ],
 "metadata": {
  "application/vnd.databricks.v1+notebook": {
   "dashboards": [],
   "language": "python",
   "notebookMetadata": {
    "mostRecentlyExecutedCommandWithImplicitDF": {
     "commandId": 2761423291090508,
     "dataframes": [
      "_sqldf"
     ]
    },
    "pythonIndentUnit": 4
   },
   "notebookName": "TransformacionyMigracionFinal",
   "notebookOrigID": 619009253221553,
   "widgets": {}
  },
  "kernelspec": {
   "display_name": "Python 3 (ipykernel)",
   "language": "python",
   "name": "python3"
  },
  "language_info": {
   "codemirror_mode": {
    "name": "ipython",
    "version": 3
   },
   "file_extension": ".py",
   "mimetype": "text/x-python",
   "name": "python",
   "nbconvert_exporter": "python",
   "pygments_lexer": "ipython3",
   "version": "3.9.12"
  }
 },
 "nbformat": 4,
 "nbformat_minor": 1
}
